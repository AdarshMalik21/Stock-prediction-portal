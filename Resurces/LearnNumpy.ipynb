{
 "cells": [
  {
   "cell_type": "markdown",
   "id": "3c5b0400-b5b2-4c18-96ca-dc1628e1a17f",
   "metadata": {},
   "source": [
    "## Create and Read "
   ]
  },
  {
   "cell_type": "markdown",
   "id": "ca134fdc-a8c4-48b8-8a12-5ed75cf4d4d1",
   "metadata": {},
   "source": [
    "#### 1D Array"
   ]
  },
  {
   "cell_type": "code",
   "execution_count": 4,
   "id": "47de2405-f8c8-4ff7-a113-0c857343e9d3",
   "metadata": {},
   "outputs": [],
   "source": [
    "## Create and Read\n",
    "\n",
    "import numpy as np"
   ]
  },
  {
   "cell_type": "code",
   "execution_count": 2,
   "id": "e8d845e3-9119-4dbb-ba5d-a5ea39a89d7b",
   "metadata": {},
   "outputs": [],
   "source": [
    "arr1 = np.array([1,2,3,4,5,6])"
   ]
  },
  {
   "cell_type": "code",
   "execution_count": 3,
   "id": "2ca0b382-158a-47a0-86eb-d6472c0f15a4",
   "metadata": {},
   "outputs": [
    {
     "data": {
      "text/plain": [
       "1"
      ]
     },
     "execution_count": 3,
     "metadata": {},
     "output_type": "execute_result"
    }
   ],
   "source": [
    "arr1.ndim"
   ]
  },
  {
   "cell_type": "markdown",
   "id": "cf8319a8-220c-4124-8201-e4bd7566ebdf",
   "metadata": {},
   "source": [
    "### 2D Array"
   ]
  },
  {
   "cell_type": "code",
   "execution_count": 5,
   "id": "dd79d9e0-6d35-4a21-9ba5-d43b175a1472",
   "metadata": {},
   "outputs": [],
   "source": [
    "arr2 = np.array([[1,2,4],[5,6,7]])"
   ]
  },
  {
   "cell_type": "code",
   "execution_count": 6,
   "id": "b898e64e-44da-4555-8533-012cd1611d54",
   "metadata": {},
   "outputs": [
    {
     "data": {
      "text/plain": [
       "2"
      ]
     },
     "execution_count": 6,
     "metadata": {},
     "output_type": "execute_result"
    }
   ],
   "source": [
    "arr2.ndim"
   ]
  },
  {
   "cell_type": "code",
   "execution_count": 7,
   "id": "dff4654f-0d1f-41f9-8f84-3ec42d460653",
   "metadata": {},
   "outputs": [
    {
     "data": {
      "text/plain": [
       "(2, 3)"
      ]
     },
     "execution_count": 7,
     "metadata": {},
     "output_type": "execute_result"
    }
   ],
   "source": [
    "arr2.shape"
   ]
  },
  {
   "cell_type": "code",
   "execution_count": null,
   "id": "a1ed8a64-7dfb-4785-9779-8607d6dafa40",
   "metadata": {},
   "outputs": [],
   "source": []
  }
 ],
 "metadata": {
  "kernelspec": {
   "display_name": "Python 3 (ipykernel)",
   "language": "python",
   "name": "python3"
  },
  "language_info": {
   "codemirror_mode": {
    "name": "ipython",
    "version": 3
   },
   "file_extension": ".py",
   "mimetype": "text/x-python",
   "name": "python",
   "nbconvert_exporter": "python",
   "pygments_lexer": "ipython3",
   "version": "3.13.2"
  }
 },
 "nbformat": 4,
 "nbformat_minor": 5
}
